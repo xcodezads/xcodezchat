{
  "cells": [
    {
      "cell_type": "markdown",
      "metadata": {
        "id": "view-in-github"
      },
      "source": [
        "<a href=\"https://colab.research.google.com/github/xcodezads/xcodezchat/blob/main/Auto_forward_messages.ipynb\" target=\"_parent\"><img src=\"https://colab.research.google.com/assets/colab-badge.svg\" alt=\"Open In Colab\"/></a>"
      ]
    },
    {
      "cell_type": "code",
      "execution_count": null,
      "metadata": {
        "cellView": "form",
        "id": "ytg4-4lmAhvs"
      },
      "outputs": [],
      "source": [
        "#@title *Start*\n",
        "from google.colab import drive\n",
        "drive.mount('/content/drive/')\n",
        "\n",
        "!pip install tgcrypto https://github.com/Drrivao/pyrogram/archive/refs/heads/master.zip\n",
        "\n",
        "!mkdir -p \"/content/drive/MyDrive/Auto Forward Messages\"\n",
        "%cd \"/content/drive/MyDrive/Auto Forward Messages\"\n",
        "!wget -N https://raw.githubusercontent.com/xcodezads/xcodezchat/main/auto_forward_messages.py"
      ]
    },
    {
      "cell_type": "code",
      "execution_count": null,
      "metadata": {
        "cellView": "form",
        "id": "P_vhraErvs9s"
      },
      "outputs": [],
      "source": [
        "#@title *Credenciais*\n",
        "\n",
        "API_ID=\"YOUR API ID HERE\" #@param {type:\"string\"}\n",
        "API_HASH=\"YOUR API HASH HERE\" #@param {type:\"string\"}\n",
        "BOT_TOKEN=\"YOUR BOT TOKEN HERE\" #@param {type:\"string\"}\n",
        "\n",
        "if BOT_TOKEN == \"YOUR BOT TOKEN HERE\" or BOT_TOKEN == \"\":\n",
        "    BOT_TOKEN=\"\"\n",
        "else:\n",
        "    BOT_TOKEN=f\"-b '{BOT_TOKEN}'\"\n",
        "\n",
        "API_ID=f\"-i '{API_ID}'\"\n",
        "API_HASH=f\"-s '{API_HASH}'\"\n",
        "\n",
        "!python auto_forward_messages.py $API_ID $API_HASH $BOT_TOKEN"
      ]
    },
    {
      "cell_type": "code",
      "execution_count": null,
      "metadata": {
        "cellView": "form",
        "id": "1koiNrYQ9POu"
      },
      "outputs": [],
      "source": [
        "#@title  *Clonar canal*\n",
        "\n",
        "ORIG = \"(link/username/id)\" #@param {type:\"string\"}\n",
        "DEST = \"(link/username/id)\" #@param {type:\"string\"}\n",
        "\n",
        "MODE=\"user\" #@param [\"user\",\"bot\"]\n",
        "FILTER = \"all types\" #@param [\"all types\", \"photo\", \"text\", \"document\", \"sticker\", \"animation\", \"audio\", \"voice\", \"video\", \"poll\"] {allow-input: true}\n",
        "QUERY = None #@param [] {type:\"raw\", allow-input: true}\n",
        "LIMIT = 0 #@param {type:\"integer\"}\n",
        "RESUME = True #@param {type:\"boolean\"}\n",
        "RESTART = False #@param {type:\"boolean\"}\n",
        "if LIMIT < 0: LIMIT=LIMIT*-1\n",
        "\n",
        "ORIG=f\"-o '{ORIG}'\"\n",
        "DEST=f\"-d '{DEST}'\" if DEST != \"\" else \"\"\n",
        "MODE=f\"-m {MODE}\"\n",
        "QUERY=f\"-q '{QUERY}'\" if QUERY is not None else \"\"\n",
        "RESUME=f\"-r\" if RESUME is True else \"\"\n",
        "RESTART=f\"-R\" if RESTART is True else \"\"\n",
        "LIMIT=f\"-l {LIMIT}\"\n",
        "FILTER=f\"-f '{FILTER}'\" if FILTER != \"all types\" else \"\"\n",
        "\n",
        "!python auto_forward_messages.py $ORIG $DEST $MODE $QUERY $RESUME $LIMIT $FILTER $RESTART"
      ]
    }
  ],
  "metadata": {
    "colab": {
      "collapsed_sections": [],
      "include_colab_link": true,
      "provenance": []
    },
    "kernelspec": {
      "display_name": "Python 3",
      "language": "python",
      "name": "python3"
    },
    "language_info": {
      "name": "python",
      "version": "3.9"
    }
  },
  "nbformat": 4,
  "nbformat_minor": 0
}